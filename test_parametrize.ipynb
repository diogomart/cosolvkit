{
 "cells": [
  {
   "cell_type": "code",
   "execution_count": 1,
   "metadata": {},
   "outputs": [],
   "source": [
    "from openmm.app import ForceField, Modeller, PDBFile\n",
    "import openmm\n",
    "import json\n",
    "from cosolvkit.parametrize import _parametrize_cosolvents\n",
    "forcefield = ForceField('amber14-all.xml', 'amber14/tip3pfb.xml')\n"
   ]
  },
  {
   "cell_type": "code",
   "execution_count": 2,
   "metadata": {},
   "outputs": [
    {
     "name": "stdout",
     "output_type": "stream",
     "text": [
      "string indices must be integers, not 'str'\n",
      "c1ccccc1\n"
     ]
    }
   ],
   "source": [
    "small_molecule_ff = _parametrize_cosolvents(cosolvents=[\"c1ccccc1\"], small_molecule_ff=\"espaloma\")\n",
    "forcefield.registerTemplateGenerator(small_molecule_ff.generator) "
   ]
  },
  {
   "cell_type": "code",
   "execution_count": 7,
   "metadata": {},
   "outputs": [],
   "source": [
    "from openmm import Vec3\n",
    "from openmm.app import Topology\n",
    "from openmm.unit import nanometer, norm, angstrom\n",
    "import openmm.unit as unit\n",
    "import numpy as np\n",
    "from scipy import spatial\n",
    "\n",
    "def create_box(positions, padding, radius=None):\n",
    "    padding = padding.value_in_unit(nanometer)\n",
    "    if positions is not None:\n",
    "        positions = positions.value_in_unit(nanometer)\n",
    "        minRange = Vec3(*(min((pos[i] for pos in positions)) for i in range(3)))\n",
    "        maxRange = Vec3(*(max((pos[i] for pos in positions)) for i in range(3)))\n",
    "        center = 0.5*(minRange+maxRange)\n",
    "        radius = max(unit.norm(center-pos) for pos in positions)\n",
    "        print(radius)\n",
    "    else:\n",
    "        radius = radius.value_in_unit(nanometer)\n",
    "    width = max(2*radius+padding, 2*padding)\n",
    "    vectors = (Vec3(width, 0, 0), Vec3(0, width, 0), Vec3(0, 0, width))\n",
    "    box = Vec3(vectors[0][0], vectors[1][1], vectors[2][2])\n",
    "    return vectors, box\n",
    "\n",
    "def add_cosolvent(cosolvent, concentration, receptor=None, modeller=None, padding=None, radius=None):\n",
    "    distance_from_edges = 3.\n",
    "    distance_from_receptor = 4.5\n",
    "    distance_from_cosolvent = 2.5\n",
    "    \n",
    "    if receptor is None and (padding is None and radius is None):\n",
    "        print(\"Error, if no receptor available padding and radius need to be passed manually.\")\n",
    "\n",
    "    if receptor is None:\n",
    "        vectors, box = create_box(positions=None, padding=padding, radius=radius)\n",
    "        new_topology = Topology()\n",
    "        new_topology.setPeriodicBoxVectors(vectors*nanometer)\n",
    "        center = Vec3(0, 0, 0)\n",
    "    else:\n",
    "        vectors = modeller.topology.getPeriodicBoxVectors()\n",
    "        new_topology = modeller.topology\n",
    "        center = [(max((pos[i] for pos in modeller.positions))+min((pos[i] for pos in modeller.positions)))/2 for i in range(3)]\n",
    "        center = Vec3(center[0], center[1], center[2])\n",
    "        pdb_topology = receptor.getTopology()\n",
    "        pdb_positions = receptor.getPositions().value_in_unit(nanometer)\n",
    "        pdb_residues = list(pdb_topology.residues())\n",
    "        # pdb_box_size = pdb_topology.getUnitCellDimensions().value_in_unit(nanometer)\n",
    "\n",
    "                    \n",
    "    # cosolvent_xyz = cosolvent.positions\n",
    "    modeller.topology = new_topology\n",
    "    modeller.positions = modeller.addPositions(new_positions)\n",
    "    return vectors"
   ]
  },
  {
   "cell_type": "code",
   "execution_count": 8,
   "metadata": {},
   "outputs": [
    {
     "name": "stdout",
     "output_type": "stream",
     "text": [
      "4.636437847367309\n"
     ]
    }
   ],
   "source": [
    "pdb = PDBFile(\"protein_clean.pdb\")\n",
    "modeller = Modeller(pdb.topology, pdb.positions)\n",
    "if modeller.getTopology() is not None:\n",
    "    modeller.deleteWater()\n",
    "vectors, box = create_box(modeller.positions, 12*angstrom)\n",
    "modeller.topology.setPeriodicBoxVectors(vectors)\n",
    "\n",
    "from cosolvkit.cosolvent import CoSolvent\n",
    "with open(\"benzene.json\") as fi:\n",
    "    c = json.load(fi)\n",
    "cosolvent = CoSolvent(**c)\n",
    "\n",
    "# add_cosolvent(cosolvent, None, pdb, modeller, 12*angstrom, None)\n",
    "# modeller.addSolvent()"
   ]
  },
  {
   "cell_type": "code",
   "execution_count": 22,
   "metadata": {},
   "outputs": [
    {
     "ename": "AttributeError",
     "evalue": "'CoSolvent' object has no attribute 'topology'",
     "output_type": "error",
     "traceback": [
      "\u001b[0;31m---------------------------------------------------------------------------\u001b[0m",
      "\u001b[0;31mAttributeError\u001b[0m                            Traceback (most recent call last)",
      "Cell \u001b[0;32mIn[22], line 6\u001b[0m\n\u001b[1;32m      3\u001b[0m     c \u001b[38;5;241m=\u001b[39m json\u001b[38;5;241m.\u001b[39mload(fi)\n\u001b[1;32m      4\u001b[0m cosolvent \u001b[38;5;241m=\u001b[39m CoSolvent(\u001b[38;5;241m*\u001b[39m\u001b[38;5;241m*\u001b[39mc)\n\u001b[0;32m----> 6\u001b[0m modeller \u001b[38;5;241m=\u001b[39m Modeller(\u001b[43mcosolvent\u001b[49m\u001b[38;5;241;43m.\u001b[39;49m\u001b[43mtopology\u001b[49m, cosolvent\u001b[38;5;241m.\u001b[39mpositions)\n",
      "\u001b[0;31mAttributeError\u001b[0m: 'CoSolvent' object has no attribute 'topology'"
     ]
    }
   ],
   "source": [
    "from cosolvkit.cosolvent import CoSolvent\n",
    "with open(\"benzene.json\") as fi:\n",
    "    c = json.load(fi)\n",
    "cosolvent = CoSolvent(**c)"
   ]
  },
  {
   "cell_type": "code",
   "execution_count": 31,
   "metadata": {},
   "outputs": [],
   "source": [
    "cos_top = Topology()\n",
    "newAtoms = {}\n",
    "newChain = cos_top.addChain()\n",
    "newRes = cos_top.addResidue(cosolvent.resname, newChain)\n",
    "molAtoms = []\n",
    "for atom in cosolvent.atom_names:\n",
    "    molAtoms.append(cos_top.addAtom(atom, atom, newRes))\n",
    "\n",
    "for bond_idx in range(len(cosolvent.pdb_conect)):\n",
    "    for b2 in cosolvent.pdb_conect[bond_idx]:\n",
    "        cos_top.addBond(bond_idx, b2)"
   ]
  },
  {
   "cell_type": "code",
   "execution_count": 32,
   "metadata": {},
   "outputs": [
    {
     "ename": "FileNotFoundError",
     "evalue": "[Errno 2] No such file or directory: 'benzene_clean.pdb'",
     "output_type": "error",
     "traceback": [
      "\u001b[0;31m---------------------------------------------------------------------------\u001b[0m",
      "\u001b[0;31mFileNotFoundError\u001b[0m                         Traceback (most recent call last)",
      "Cell \u001b[0;32mIn[32], line 5\u001b[0m\n\u001b[1;32m      1\u001b[0m modeller \u001b[38;5;241m=\u001b[39m Modeller(cos_top, cosolvent\u001b[38;5;241m.\u001b[39mpositions)\n\u001b[1;32m      2\u001b[0m PDBFile\u001b[38;5;241m.\u001b[39mwriteFile(\n\u001b[1;32m      3\u001b[0m             modeller\u001b[38;5;241m.\u001b[39mtopology,\n\u001b[1;32m      4\u001b[0m             modeller\u001b[38;5;241m.\u001b[39mpositions,\n\u001b[0;32m----> 5\u001b[0m             \u001b[38;5;28;43mopen\u001b[39;49m\u001b[43m(\u001b[49m\u001b[38;5;124;43m\"\u001b[39;49m\u001b[38;5;124;43mbenzene_clean.pdb\u001b[39;49m\u001b[38;5;124;43m\"\u001b[39;49m\u001b[43m)\u001b[49m,\n\u001b[1;32m      6\u001b[0m                     \u001b[38;5;124m\"\u001b[39m\u001b[38;5;124mw\u001b[39m\u001b[38;5;124m\"\u001b[39m,\n\u001b[1;32m      7\u001b[0m             keepIds\u001b[38;5;241m=\u001b[39m\u001b[38;5;28;01mTrue\u001b[39;00m)\n",
      "File \u001b[0;32m~/miniconda3/envs/cosolvkit/lib/python3.11/site-packages/IPython/core/interactiveshell.py:310\u001b[0m, in \u001b[0;36m_modified_open\u001b[0;34m(file, *args, **kwargs)\u001b[0m\n\u001b[1;32m    303\u001b[0m \u001b[38;5;28;01mif\u001b[39;00m file \u001b[38;5;129;01min\u001b[39;00m {\u001b[38;5;241m0\u001b[39m, \u001b[38;5;241m1\u001b[39m, \u001b[38;5;241m2\u001b[39m}:\n\u001b[1;32m    304\u001b[0m     \u001b[38;5;28;01mraise\u001b[39;00m \u001b[38;5;167;01mValueError\u001b[39;00m(\n\u001b[1;32m    305\u001b[0m         \u001b[38;5;124mf\u001b[39m\u001b[38;5;124m\"\u001b[39m\u001b[38;5;124mIPython won\u001b[39m\u001b[38;5;124m'\u001b[39m\u001b[38;5;124mt let you open fd=\u001b[39m\u001b[38;5;132;01m{\u001b[39;00mfile\u001b[38;5;132;01m}\u001b[39;00m\u001b[38;5;124m by default \u001b[39m\u001b[38;5;124m\"\u001b[39m\n\u001b[1;32m    306\u001b[0m         \u001b[38;5;124m\"\u001b[39m\u001b[38;5;124mas it is likely to crash IPython. If you know what you are doing, \u001b[39m\u001b[38;5;124m\"\u001b[39m\n\u001b[1;32m    307\u001b[0m         \u001b[38;5;124m\"\u001b[39m\u001b[38;5;124myou can use builtins\u001b[39m\u001b[38;5;124m'\u001b[39m\u001b[38;5;124m open.\u001b[39m\u001b[38;5;124m\"\u001b[39m\n\u001b[1;32m    308\u001b[0m     )\n\u001b[0;32m--> 310\u001b[0m \u001b[38;5;28;01mreturn\u001b[39;00m \u001b[43mio_open\u001b[49m\u001b[43m(\u001b[49m\u001b[43mfile\u001b[49m\u001b[43m,\u001b[49m\u001b[43m \u001b[49m\u001b[38;5;241;43m*\u001b[39;49m\u001b[43margs\u001b[49m\u001b[43m,\u001b[49m\u001b[43m \u001b[49m\u001b[38;5;241;43m*\u001b[39;49m\u001b[38;5;241;43m*\u001b[39;49m\u001b[43mkwargs\u001b[49m\u001b[43m)\u001b[49m\n",
      "\u001b[0;31mFileNotFoundError\u001b[0m: [Errno 2] No such file or directory: 'benzene_clean.pdb'"
     ]
    }
   ],
   "source": [
    "modeller = Modeller(cos_top, cosolvent.positions)\n",
    "PDBFile.writeFile(\n",
    "            modeller.topology,\n",
    "            modeller.positions,\n",
    "            open(\"benzene_clean.pdb\",\n",
    "                    \"w\"),\n",
    "            keepIds=True)\n"
   ]
  },
  {
   "cell_type": "code",
   "execution_count": null,
   "metadata": {},
   "outputs": [],
   "source": []
  },
  {
   "cell_type": "code",
   "execution_count": null,
   "metadata": {},
   "outputs": [],
   "source": []
  },
  {
   "cell_type": "code",
   "execution_count": null,
   "metadata": {},
   "outputs": [],
   "source": []
  },
  {
   "cell_type": "code",
   "execution_count": null,
   "metadata": {},
   "outputs": [],
   "source": []
  },
  {
   "cell_type": "code",
   "execution_count": null,
   "metadata": {},
   "outputs": [],
   "source": []
  }
 ],
 "metadata": {
  "kernelspec": {
   "display_name": "cosolvkit",
   "language": "python",
   "name": "python3"
  },
  "language_info": {
   "codemirror_mode": {
    "name": "ipython",
    "version": 3
   },
   "file_extension": ".py",
   "mimetype": "text/x-python",
   "name": "python",
   "nbconvert_exporter": "python",
   "pygments_lexer": "ipython3",
   "version": "3.11.6"
  }
 },
 "nbformat": 4,
 "nbformat_minor": 2
}
