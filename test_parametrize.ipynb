{
 "cells": [
  {
   "cell_type": "code",
   "execution_count": 7,
   "metadata": {},
   "outputs": [],
   "source": [
    "from openmm.app import *\n",
    "from openmm import *\n",
    "from openmm.unit import *\n",
    "from openmmforcefields.generators import EspalomaTemplateGenerator, GAFFTemplateGenerator, SMIRNOFFTemplateGenerator\n",
    "from openff.toolkit import Molecule\n",
    "import parmed\n",
    "import pdbfixer"
   ]
  },
  {
   "cell_type": "code",
   "execution_count": 8,
   "metadata": {},
   "outputs": [],
   "source": [
    "forcefield = ForceField('amber14-all.xml', 'amber14/tip3pfb.xml')\n"
   ]
  },
  {
   "cell_type": "code",
   "execution_count": 9,
   "metadata": {},
   "outputs": [],
   "source": [
    "import json\n",
    "from cosolvkit.parametrize import _parametrize_cosolvents"
   ]
  },
  {
   "cell_type": "code",
   "execution_count": 10,
   "metadata": {},
   "outputs": [],
   "source": [
    "forcefield = _parametrize_cosolvents(cosolvents=[\"c1ccccc1\"],\n",
    "                                     forcefield=forcefield,\n",
    "                                     small_molecule_ff=\"espaloma\")"
   ]
  },
  {
   "cell_type": "code",
   "execution_count": 11,
   "metadata": {},
   "outputs": [
    {
     "name": "stderr",
     "output_type": "stream",
     "text": [
      "/home/nick/miniconda3/envs/cosolvkit/lib/python3.11/site-packages/openmm/app/internal/pdbstructure.py:537: UserWarning: WARNING: duplicate atom (ATOM    561   N  VAL A  73      -0.452 -24.313  15.218  0.00  0.00           N  , ATOM    560   N  VAL A  73      -0.486 -24.361  15.155  0.00  0.00           N  )\n",
      "  warnings.warn(\"WARNING: duplicate atom (%s, %s)\" % (atom, old_atom._pdb_string(old_atom.serial_number, atom.alternate_location_indicator)))\n",
      "/home/nick/miniconda3/envs/cosolvkit/lib/python3.11/site-packages/openmm/app/internal/pdbstructure.py:537: UserWarning: WARNING: duplicate atom (ATOM    563  CA  VAL A  73       0.444 -25.499  15.370  0.00  0.00           C  , ATOM    562  CA  VAL A  73       0.447 -25.504  15.399  0.00  0.00           C  )\n",
      "  warnings.warn(\"WARNING: duplicate atom (%s, %s)\" % (atom, old_atom._pdb_string(old_atom.serial_number, atom.alternate_location_indicator)))\n",
      "/home/nick/miniconda3/envs/cosolvkit/lib/python3.11/site-packages/openmm/app/internal/pdbstructure.py:537: UserWarning: WARNING: duplicate atom (ATOM    565   C  VAL A  73       1.786 -25.070  15.981  0.00  0.00           C  , ATOM    564   C  VAL A  73       1.743 -25.003  16.051  0.00  0.00           C  )\n",
      "  warnings.warn(\"WARNING: duplicate atom (%s, %s)\" % (atom, old_atom._pdb_string(old_atom.serial_number, atom.alternate_location_indicator)))\n",
      "/home/nick/miniconda3/envs/cosolvkit/lib/python3.11/site-packages/openmm/app/internal/pdbstructure.py:537: UserWarning: WARNING: duplicate atom (ATOM    567   O  VAL A  73       2.468 -24.204  15.395  0.00  0.00           O  , ATOM    566   O  VAL A  73       2.354 -24.048  15.569  0.00  0.00           O  )\n",
      "  warnings.warn(\"WARNING: duplicate atom (%s, %s)\" % (atom, old_atom._pdb_string(old_atom.serial_number, atom.alternate_location_indicator)))\n",
      "/home/nick/miniconda3/envs/cosolvkit/lib/python3.11/site-packages/openmm/app/internal/pdbstructure.py:537: UserWarning: WARNING: duplicate atom (ATOM    569  CB  VAL A  73       0.624 -26.223  14.026  0.00  0.00           C  , ATOM    568  CB  VAL A  73       0.753 -26.326  14.134  0.00  0.00           C  )\n",
      "  warnings.warn(\"WARNING: duplicate atom (%s, %s)\" % (atom, old_atom._pdb_string(old_atom.serial_number, atom.alternate_location_indicator)))\n",
      "/home/nick/miniconda3/envs/cosolvkit/lib/python3.11/site-packages/openmm/app/internal/pdbstructure.py:537: UserWarning: WARNING: duplicate atom (ATOM    571  CG1 VAL A  73       1.709 -27.288  14.103  0.00  0.00           C  , ATOM    570  CG1 VAL A  73       1.500 -25.539  13.080  0.00  0.00           C  )\n",
      "  warnings.warn(\"WARNING: duplicate atom (%s, %s)\" % (atom, old_atom._pdb_string(old_atom.serial_number, atom.alternate_location_indicator)))\n",
      "/home/nick/miniconda3/envs/cosolvkit/lib/python3.11/site-packages/openmm/app/internal/pdbstructure.py:537: UserWarning: WARNING: duplicate atom (ATOM    573  CG2 VAL A  73      -0.693 -26.824  13.555  0.00  0.00           C  , ATOM    572  CG2 VAL A  73       1.534 -27.587  14.469  0.00  0.00           C  )\n",
      "  warnings.warn(\"WARNING: duplicate atom (%s, %s)\" % (atom, old_atom._pdb_string(old_atom.serial_number, atom.alternate_location_indicator)))\n",
      "/home/nick/miniconda3/envs/cosolvkit/lib/python3.11/site-packages/openmm/app/internal/pdbstructure.py:537: UserWarning: WARNING: duplicate atom (ATOM   1659   N  ASP A 216       0.755  14.209 -15.684  0.00  0.00           N  , ATOM   1658   N  ASP A 216       0.690  14.189 -15.653  0.00  0.00           N  )\n",
      "  warnings.warn(\"WARNING: duplicate atom (%s, %s)\" % (atom, old_atom._pdb_string(old_atom.serial_number, atom.alternate_location_indicator)))\n",
      "/home/nick/miniconda3/envs/cosolvkit/lib/python3.11/site-packages/openmm/app/internal/pdbstructure.py:537: UserWarning: WARNING: duplicate atom (ATOM   1661  CA  ASP A 216       0.818  15.369 -14.764  0.00  0.00           C  , ATOM   1660  CA  ASP A 216       0.821  15.377 -14.777  0.00  0.00           C  )\n",
      "  warnings.warn(\"WARNING: duplicate atom (%s, %s)\" % (atom, old_atom._pdb_string(old_atom.serial_number, atom.alternate_location_indicator)))\n",
      "/home/nick/miniconda3/envs/cosolvkit/lib/python3.11/site-packages/openmm/app/internal/pdbstructure.py:537: UserWarning: WARNING: duplicate atom (ATOM   1663   C  ASP A 216       2.084  16.151 -15.108  0.00  0.00           C  , ATOM   1662   C  ASP A 216       2.092  16.096 -15.206  0.00  0.00           C  )\n",
      "  warnings.warn(\"WARNING: duplicate atom (%s, %s)\" % (atom, old_atom._pdb_string(old_atom.serial_number, atom.alternate_location_indicator)))\n",
      "/home/nick/miniconda3/envs/cosolvkit/lib/python3.11/site-packages/openmm/app/internal/pdbstructure.py:537: UserWarning: WARNING: duplicate atom (ATOM   1665   O  ASP A 216       3.173  15.704 -14.694  0.00  0.00           O  , ATOM   1664   O  ASP A 216       3.187  15.535 -14.991  0.00  0.00           O  )\n",
      "  warnings.warn(\"WARNING: duplicate atom (%s, %s)\" % (atom, old_atom._pdb_string(old_atom.serial_number, atom.alternate_location_indicator)))\n",
      "/home/nick/miniconda3/envs/cosolvkit/lib/python3.11/site-packages/openmm/app/internal/pdbstructure.py:537: UserWarning: WARNING: duplicate atom (ATOM   1667  CB  ASP A 216       0.788  14.903 -13.310  0.00  0.00           C  , ATOM   1666  CB  ASP A 216       0.825  15.007 -13.295  0.00  0.00           C  )\n",
      "  warnings.warn(\"WARNING: duplicate atom (%s, %s)\" % (atom, old_atom._pdb_string(old_atom.serial_number, atom.alternate_location_indicator)))\n",
      "/home/nick/miniconda3/envs/cosolvkit/lib/python3.11/site-packages/openmm/app/internal/pdbstructure.py:537: UserWarning: WARNING: duplicate atom (ATOM   1669  CG  ASP A 216      -0.195  15.657 -12.441  0.00  0.00           C  , ATOM   1668  CG  ASP A 216      -0.555  15.037 -12.672  0.00  0.00           C  )\n",
      "  warnings.warn(\"WARNING: duplicate atom (%s, %s)\" % (atom, old_atom._pdb_string(old_atom.serial_number, atom.alternate_location_indicator)))\n",
      "/home/nick/miniconda3/envs/cosolvkit/lib/python3.11/site-packages/openmm/app/internal/pdbstructure.py:537: UserWarning: WARNING: duplicate atom (ATOM   1671  OD1 ASP A 216      -0.486  16.826 -12.763  0.00  0.00           O  , ATOM   1670  OD1 ASP A 216      -1.537  14.886 -13.422  0.00  0.00           O  )\n",
      "  warnings.warn(\"WARNING: duplicate atom (%s, %s)\" % (atom, old_atom._pdb_string(old_atom.serial_number, atom.alternate_location_indicator)))\n",
      "/home/nick/miniconda3/envs/cosolvkit/lib/python3.11/site-packages/openmm/app/internal/pdbstructure.py:537: UserWarning: WARNING: duplicate atom (ATOM   1673  OD2 ASP A 216      -0.656  15.054 -11.440  0.00  0.00           O  , ATOM   1672  OD2 ASP A 216      -0.634  15.202 -11.434  0.00  0.00           O  )\n",
      "  warnings.warn(\"WARNING: duplicate atom (%s, %s)\" % (atom, old_atom._pdb_string(old_atom.serial_number, atom.alternate_location_indicator)))\n",
      "/home/nick/miniconda3/envs/cosolvkit/lib/python3.11/site-packages/openmm/app/internal/pdbstructure.py:537: UserWarning: WARNING: duplicate atom (ATOM   1720  CA  ASN A 221       9.529  24.633 -16.742  0.00  0.00           C  , ATOM   1719  CA  ASN A 221       9.400  24.644 -16.872  0.00  0.00           C  )\n",
      "  warnings.warn(\"WARNING: duplicate atom (%s, %s)\" % (atom, old_atom._pdb_string(old_atom.serial_number, atom.alternate_location_indicator)))\n",
      "/home/nick/miniconda3/envs/cosolvkit/lib/python3.11/site-packages/openmm/app/internal/pdbstructure.py:537: UserWarning: WARNING: duplicate atom (ATOM   1724  CB  ASN A 221      10.179  25.117 -15.438  0.00  0.00           C  , ATOM   1723  CB  ASN A 221       9.843  25.388 -15.626  0.00  0.00           C  )\n",
      "  warnings.warn(\"WARNING: duplicate atom (%s, %s)\" % (atom, old_atom._pdb_string(old_atom.serial_number, atom.alternate_location_indicator)))\n",
      "/home/nick/miniconda3/envs/cosolvkit/lib/python3.11/site-packages/openmm/app/internal/pdbstructure.py:537: UserWarning: WARNING: duplicate atom (ATOM   1726  CG  ASN A 221       9.659  26.457 -14.960  0.00  0.00           C  , ATOM   1725  CG  ASN A 221      11.110  24.797 -15.061  0.00  0.00           C  )\n",
      "  warnings.warn(\"WARNING: duplicate atom (%s, %s)\" % (atom, old_atom._pdb_string(old_atom.serial_number, atom.alternate_location_indicator)))\n",
      "/home/nick/miniconda3/envs/cosolvkit/lib/python3.11/site-packages/openmm/app/internal/pdbstructure.py:537: UserWarning: WARNING: duplicate atom (ATOM   1728  ND2 ASN A 221       9.215  26.538 -13.706  0.00  0.00           N  , ATOM   1727  ND2 ASN A 221      11.220  24.872 -13.751  0.00  0.00           N  )\n",
      "  warnings.warn(\"WARNING: duplicate atom (%s, %s)\" % (atom, old_atom._pdb_string(old_atom.serial_number, atom.alternate_location_indicator)))\n",
      "/home/nick/miniconda3/envs/cosolvkit/lib/python3.11/site-packages/openmm/app/internal/pdbstructure.py:537: UserWarning: WARNING: duplicate atom (ATOM   1730  OD1 ASN A 221       9.662  27.417 -15.716  0.00  0.00           O  , ATOM   1729  OD1 ASN A 221      11.946  24.250 -15.795  0.00  0.00           O  )\n",
      "  warnings.warn(\"WARNING: duplicate atom (%s, %s)\" % (atom, old_atom._pdb_string(old_atom.serial_number, atom.alternate_location_indicator)))\n",
      "/home/nick/miniconda3/envs/cosolvkit/lib/python3.11/site-packages/openmm/app/internal/pdbstructure.py:537: UserWarning: WARNING: duplicate atom (ATOM   2928   N  VAL B  73       0.345 -24.110 -15.473  0.00  0.00           N  , ATOM   2927   N  VAL B  73       0.379 -24.159 -15.411  0.00  0.00           N  )\n",
      "  warnings.warn(\"WARNING: duplicate atom (%s, %s)\" % (atom, old_atom._pdb_string(old_atom.serial_number, atom.alternate_location_indicator)))\n",
      "/home/nick/miniconda3/envs/cosolvkit/lib/python3.11/site-packages/openmm/app/internal/pdbstructure.py:537: UserWarning: WARNING: duplicate atom (ATOM   2930  CA  VAL B  73      -0.558 -25.289 -15.641  0.00  0.00           C  , ATOM   2929  CA  VAL B  73      -0.561 -25.293 -15.670  0.00  0.00           C  )\n",
      "  warnings.warn(\"WARNING: duplicate atom (%s, %s)\" % (atom, old_atom._pdb_string(old_atom.serial_number, atom.alternate_location_indicator)))\n",
      "/home/nick/miniconda3/envs/cosolvkit/lib/python3.11/site-packages/openmm/app/internal/pdbstructure.py:537: UserWarning: WARNING: duplicate atom (ATOM   2932   C  VAL B  73      -1.897 -24.844 -16.246  0.00  0.00           C  , ATOM   2931   C  VAL B  73      -1.854 -24.776 -16.315  0.00  0.00           C  )\n",
      "  warnings.warn(\"WARNING: duplicate atom (%s, %s)\" % (atom, old_atom._pdb_string(old_atom.serial_number, atom.alternate_location_indicator)))\n",
      "/home/nick/miniconda3/envs/cosolvkit/lib/python3.11/site-packages/openmm/app/internal/pdbstructure.py:537: UserWarning: WARNING: duplicate atom (ATOM   2934   O  VAL B  73      -2.574 -23.982 -15.648  0.00  0.00           O  , ATOM   2933   O  VAL B  73      -2.459 -23.825 -15.820  0.00  0.00           O  )\n",
      "  warnings.warn(\"WARNING: duplicate atom (%s, %s)\" % (atom, old_atom._pdb_string(old_atom.serial_number, atom.alternate_location_indicator)))\n",
      "/home/nick/miniconda3/envs/cosolvkit/lib/python3.11/site-packages/openmm/app/internal/pdbstructure.py:537: UserWarning: WARNING: duplicate atom (ATOM   2936  CB  VAL B  73      -0.742 -26.030 -14.307  0.00  0.00           C  , ATOM   2935  CB  VAL B  73      -0.872 -26.131 -14.416  0.00  0.00           C  )\n",
      "  warnings.warn(\"WARNING: duplicate atom (%s, %s)\" % (atom, old_atom._pdb_string(old_atom.serial_number, atom.alternate_location_indicator)))\n",
      "/home/nick/miniconda3/envs/cosolvkit/lib/python3.11/site-packages/openmm/app/internal/pdbstructure.py:537: UserWarning: WARNING: duplicate atom (ATOM   2938  CG1 VAL B  73      -1.832 -27.087 -14.397  0.00  0.00           C  , ATOM   2937  CG1 VAL B  73      -1.614 -25.354 -13.351  0.00  0.00           C  )\n",
      "  warnings.warn(\"WARNING: duplicate atom (%s, %s)\" % (atom, old_atom._pdb_string(old_atom.serial_number, atom.alternate_location_indicator)))\n",
      "/home/nick/miniconda3/envs/cosolvkit/lib/python3.11/site-packages/openmm/app/internal/pdbstructure.py:537: UserWarning: WARNING: duplicate atom (ATOM   2940  CG2 VAL B  73       0.572 -26.645 -13.844  0.00  0.00           C  , ATOM   2939  CG2 VAL B  73      -1.659 -27.382 -14.767  0.00  0.00           C  )\n",
      "  warnings.warn(\"WARNING: duplicate atom (%s, %s)\" % (atom, old_atom._pdb_string(old_atom.serial_number, atom.alternate_location_indicator)))\n",
      "/home/nick/miniconda3/envs/cosolvkit/lib/python3.11/site-packages/openmm/app/internal/pdbstructure.py:537: UserWarning: WARNING: duplicate atom (ATOM   4026   N  ASP B 216      -0.645  14.001  15.942  0.00  0.00           N  , ATOM   4025   N  ASP B 216      -0.581  13.982  15.910  0.00  0.00           N  )\n",
      "  warnings.warn(\"WARNING: duplicate atom (%s, %s)\" % (atom, old_atom._pdb_string(old_atom.serial_number, atom.alternate_location_indicator)))\n",
      "/home/nick/miniconda3/envs/cosolvkit/lib/python3.11/site-packages/openmm/app/internal/pdbstructure.py:537: UserWarning: WARNING: duplicate atom (ATOM   4028  CA  ASP B 216      -0.702  15.174  15.037  0.00  0.00           C  , ATOM   4027  CA  ASP B 216      -0.705  15.182  15.050  0.00  0.00           C  )\n",
      "  warnings.warn(\"WARNING: duplicate atom (%s, %s)\" % (atom, old_atom._pdb_string(old_atom.serial_number, atom.alternate_location_indicator)))\n",
      "/home/nick/miniconda3/envs/cosolvkit/lib/python3.11/site-packages/openmm/app/internal/pdbstructure.py:537: UserWarning: WARNING: duplicate atom (ATOM   4030   C  ASP B 216      -1.964  15.958  15.392  0.00  0.00           C  , ATOM   4029   C  ASP B 216      -1.972  15.902  15.489  0.00  0.00           C  )\n",
      "  warnings.warn(\"WARNING: duplicate atom (%s, %s)\" % (atom, old_atom._pdb_string(old_atom.serial_number, atom.alternate_location_indicator)))\n",
      "/home/nick/miniconda3/envs/cosolvkit/lib/python3.11/site-packages/openmm/app/internal/pdbstructure.py:537: UserWarning: WARNING: duplicate atom (ATOM   4032   O  ASP B 216      -3.055  15.523  14.972  0.00  0.00           O  , ATOM   4031   O  ASP B 216      -3.070  15.350  15.266  0.00  0.00           O  )\n",
      "  warnings.warn(\"WARNING: duplicate atom (%s, %s)\" % (atom, old_atom._pdb_string(old_atom.serial_number, atom.alternate_location_indicator)))\n",
      "/home/nick/miniconda3/envs/cosolvkit/lib/python3.11/site-packages/openmm/app/internal/pdbstructure.py:537: UserWarning: WARNING: duplicate atom (ATOM   4034  CB  ASP B 216      -0.675  14.727  13.578  0.00  0.00           C  , ATOM   4033  CB  ASP B 216      -0.711  14.832  13.564  0.00  0.00           C  )\n",
      "  warnings.warn(\"WARNING: duplicate atom (%s, %s)\" % (atom, old_atom._pdb_string(old_atom.serial_number, atom.alternate_location_indicator)))\n",
      "/home/nick/miniconda3/envs/cosolvkit/lib/python3.11/site-packages/openmm/app/internal/pdbstructure.py:537: UserWarning: WARNING: duplicate atom (ATOM   4036  CG  ASP B 216       0.313  15.487  12.718  0.00  0.00           C  , ATOM   4035  CG  ASP B 216       0.668  14.862  12.941  0.00  0.00           C  )\n",
      "  warnings.warn(\"WARNING: duplicate atom (%s, %s)\" % (atom, old_atom._pdb_string(old_atom.serial_number, atom.alternate_location_indicator)))\n",
      "/home/nick/miniconda3/envs/cosolvkit/lib/python3.11/site-packages/openmm/app/internal/pdbstructure.py:537: UserWarning: WARNING: duplicate atom (ATOM   4038  OD1 ASP B 216       0.610  16.650  13.056  0.00  0.00           O  , ATOM   4037  OD1 ASP B 216       1.650  14.696  13.688  0.00  0.00           O  )\n",
      "  warnings.warn(\"WARNING: duplicate atom (%s, %s)\" % (atom, old_atom._pdb_string(old_atom.serial_number, atom.alternate_location_indicator)))\n",
      "/home/nick/miniconda3/envs/cosolvkit/lib/python3.11/site-packages/openmm/app/internal/pdbstructure.py:537: UserWarning: WARNING: duplicate atom (ATOM   4040  OD2 ASP B 216       0.770  14.895  11.709  0.00  0.00           O  , ATOM   4039  OD2 ASP B 216       0.748  15.043  11.705  0.00  0.00           O  )\n",
      "  warnings.warn(\"WARNING: duplicate atom (%s, %s)\" % (atom, old_atom._pdb_string(old_atom.serial_number, atom.alternate_location_indicator)))\n",
      "/home/nick/miniconda3/envs/cosolvkit/lib/python3.11/site-packages/openmm/app/internal/pdbstructure.py:537: UserWarning: WARNING: duplicate atom (ATOM   4087  CA  ASN B 221      -9.362  24.459  17.139  0.00  0.00           C  , ATOM   4086  CA  ASN B 221      -9.232  24.468  17.269  0.00  0.00           C  )\n",
      "  warnings.warn(\"WARNING: duplicate atom (%s, %s)\" % (atom, old_atom._pdb_string(old_atom.serial_number, atom.alternate_location_indicator)))\n",
      "/home/nick/miniconda3/envs/cosolvkit/lib/python3.11/site-packages/openmm/app/internal/pdbstructure.py:537: UserWarning: WARNING: duplicate atom (ATOM   4091  CB  ASN B 221     -10.008  24.965  15.842  0.00  0.00           C  , ATOM   4090  CB  ASN B 221      -9.671  25.232  16.034  0.00  0.00           C  )\n",
      "  warnings.warn(\"WARNING: duplicate atom (%s, %s)\" % (atom, old_atom._pdb_string(old_atom.serial_number, atom.alternate_location_indicator)))\n",
      "/home/nick/miniconda3/envs/cosolvkit/lib/python3.11/site-packages/openmm/app/internal/pdbstructure.py:537: UserWarning: WARNING: duplicate atom (ATOM   4093  CG  ASN B 221      -9.480  26.308  15.381  0.00  0.00           C  , ATOM   4092  CG  ASN B 221     -10.942  24.655  15.460  0.00  0.00           C  )\n",
      "  warnings.warn(\"WARNING: duplicate atom (%s, %s)\" % (atom, old_atom._pdb_string(old_atom.serial_number, atom.alternate_location_indicator)))\n",
      "/home/nick/miniconda3/envs/cosolvkit/lib/python3.11/site-packages/openmm/app/internal/pdbstructure.py:537: UserWarning: WARNING: duplicate atom (ATOM   4095  ND2 ASN B 221      -9.036  26.404  14.129  0.00  0.00           N  , ATOM   4094  ND2 ASN B 221     -11.050  24.748  14.152  0.00  0.00           N  )\n",
      "  warnings.warn(\"WARNING: duplicate atom (%s, %s)\" % (atom, old_atom._pdb_string(old_atom.serial_number, atom.alternate_location_indicator)))\n",
      "/home/nick/miniconda3/envs/cosolvkit/lib/python3.11/site-packages/openmm/app/internal/pdbstructure.py:537: UserWarning: WARNING: duplicate atom (ATOM   4097  OD1 ASN B 221      -9.479  27.257  16.151  0.00  0.00           O  , ATOM   4096  OD1 ASN B 221     -11.780  24.102  16.187  0.00  0.00           O  )\n",
      "  warnings.warn(\"WARNING: duplicate atom (%s, %s)\" % (atom, old_atom._pdb_string(old_atom.serial_number, atom.alternate_location_indicator)))\n"
     ]
    }
   ],
   "source": [
    "fixer = pdbfixer.PDBFixer(filename=\"cosolv_system_protein.pdb\")\n",
    "fixer.addMissingHydrogens(7.0)\n",
    "PDBFile.writeFile(fixer.topology, fixer.positions, open(\"cosolv_system_protein_clean.pdb\", 'w'))\n",
    "cosolvent_pdb = PDBFile(\"cosolv_system_protein_clean.pdb\")\n",
    "# cosolvent_pdb = PDBFile(\"cosolv_system_protein.pdb\")\n",
    "# cosolvent_pdb = PDBFile(\"output.pdb\")"
   ]
  },
  {
   "cell_type": "code",
   "execution_count": 12,
   "metadata": {},
   "outputs": [
    {
     "name": "stderr",
     "output_type": "stream",
     "text": [
      "Did not recognize residue THR; did you forget to call .add_molecules() to add it?\n"
     ]
    },
    {
     "ename": "ValueError",
     "evalue": "No template found for residue 304 (THR).  The set of atoms matches THR, but the bonds are different.  Perhaps the chain is missing a terminal group?  For more information, see https://github.com/openmm/openmm/wiki/Frequently-Asked-Questions#template",
     "output_type": "error",
     "traceback": [
      "\u001b[0;31m---------------------------------------------------------------------------\u001b[0m",
      "\u001b[0;31mValueError\u001b[0m                                Traceback (most recent call last)",
      "\u001b[1;32m/home/nick/phd/cosolvkit/test_parametrize.ipynb Cell 6\u001b[0m line \u001b[0;36m1\n\u001b[0;32m----> <a href='vscode-notebook-cell:/home/nick/phd/cosolvkit/test_parametrize.ipynb#W6sZmlsZQ%3D%3D?line=0'>1</a>\u001b[0m system \u001b[39m=\u001b[39m forcefield\u001b[39m.\u001b[39;49mcreateSystem(cosolvent_pdb\u001b[39m.\u001b[39;49mtopology,\n\u001b[1;32m      <a href='vscode-notebook-cell:/home/nick/phd/cosolvkit/test_parametrize.ipynb#W6sZmlsZQ%3D%3D?line=1'>2</a>\u001b[0m                                  nonbondedMethod\u001b[39m=\u001b[39;49mPME,\n\u001b[1;32m      <a href='vscode-notebook-cell:/home/nick/phd/cosolvkit/test_parametrize.ipynb#W6sZmlsZQ%3D%3D?line=2'>3</a>\u001b[0m                                  nonbondedCutoff\u001b[39m=\u001b[39;49m\u001b[39m12\u001b[39;49m \u001b[39m*\u001b[39;49m angstrom,\n\u001b[1;32m      <a href='vscode-notebook-cell:/home/nick/phd/cosolvkit/test_parametrize.ipynb#W6sZmlsZQ%3D%3D?line=3'>4</a>\u001b[0m                                  constraints\u001b[39m=\u001b[39;49mHBonds,\n\u001b[1;32m      <a href='vscode-notebook-cell:/home/nick/phd/cosolvkit/test_parametrize.ipynb#W6sZmlsZQ%3D%3D?line=4'>5</a>\u001b[0m                                  hydrogenMass\u001b[39m=\u001b[39;49m\u001b[39m3\u001b[39;49m \u001b[39m*\u001b[39;49m amu)\n",
      "File \u001b[0;32m~/miniconda3/envs/cosolvkit/lib/python3.11/site-packages/openmm/app/forcefield.py:1247\u001b[0m, in \u001b[0;36mForceField.createSystem\u001b[0;34m(self, topology, nonbondedMethod, nonbondedCutoff, constraints, rigidWater, removeCMMotion, hydrogenMass, residueTemplates, ignoreExternalBonds, switchDistance, flexibleConstraints, drudeMass, **args)\u001b[0m\n\u001b[1;32m   1243\u001b[0m rigidResidue \u001b[39m=\u001b[39m [\u001b[39mFalse\u001b[39;00m]\u001b[39m*\u001b[39mtopology\u001b[39m.\u001b[39mgetNumResidues()\n\u001b[1;32m   1245\u001b[0m \u001b[39m# Find the template matching each residue and assign atom types.\u001b[39;00m\n\u001b[0;32m-> 1247\u001b[0m templateForResidue \u001b[39m=\u001b[39m \u001b[39mself\u001b[39;49m\u001b[39m.\u001b[39;49m_matchAllResiduesToTemplates(data, topology, residueTemplates, ignoreExternalBonds)\n\u001b[1;32m   1248\u001b[0m \u001b[39mfor\u001b[39;00m res \u001b[39min\u001b[39;00m topology\u001b[39m.\u001b[39mresidues():\n\u001b[1;32m   1249\u001b[0m     \u001b[39mif\u001b[39;00m res\u001b[39m.\u001b[39mname \u001b[39m==\u001b[39m \u001b[39m'\u001b[39m\u001b[39mHOH\u001b[39m\u001b[39m'\u001b[39m:\n\u001b[1;32m   1250\u001b[0m         \u001b[39m# Determine whether this should be a rigid water.\u001b[39;00m\n",
      "File \u001b[0;32m~/miniconda3/envs/cosolvkit/lib/python3.11/site-packages/openmm/app/forcefield.py:1462\u001b[0m, in \u001b[0;36mForceField._matchAllResiduesToTemplates\u001b[0;34m(self, data, topology, residueTemplates, ignoreExternalBonds, ignoreExtraParticles, recordParameters)\u001b[0m\n\u001b[1;32m   1460\u001b[0m                 \u001b[39mbreak\u001b[39;00m\n\u001b[1;32m   1461\u001b[0m \u001b[39mif\u001b[39;00m matches \u001b[39mis\u001b[39;00m \u001b[39mNone\u001b[39;00m:\n\u001b[0;32m-> 1462\u001b[0m     \u001b[39mraise\u001b[39;00m \u001b[39mValueError\u001b[39;00m(\u001b[39m'\u001b[39m\u001b[39mNo template found for residue \u001b[39m\u001b[39m%d\u001b[39;00m\u001b[39m (\u001b[39m\u001b[39m%s\u001b[39;00m\u001b[39m).  \u001b[39m\u001b[39m%s\u001b[39;00m\u001b[39m  For more information, see https://github.com/openmm/openmm/wiki/Frequently-Asked-Questions#template\u001b[39m\u001b[39m'\u001b[39m \u001b[39m%\u001b[39m (res\u001b[39m.\u001b[39mindex\u001b[39m+\u001b[39m\u001b[39m1\u001b[39m, res\u001b[39m.\u001b[39mname, _findMatchErrors(\u001b[39mself\u001b[39m, res)))\n\u001b[1;32m   1463\u001b[0m \u001b[39melse\u001b[39;00m:\n\u001b[1;32m   1464\u001b[0m     \u001b[39mif\u001b[39;00m recordParameters:\n",
      "\u001b[0;31mValueError\u001b[0m: No template found for residue 304 (THR).  The set of atoms matches THR, but the bonds are different.  Perhaps the chain is missing a terminal group?  For more information, see https://github.com/openmm/openmm/wiki/Frequently-Asked-Questions#template"
     ]
    }
   ],
   "source": [
    "system = forcefield.createSystem(cosolvent_pdb.topology,\n",
    "                                 nonbondedMethod=PME,\n",
    "                                 nonbondedCutoff=12 * angstrom,\n",
    "                                 constraints=HBonds,\n",
    "                                 hydrogenMass=3 * amu)"
   ]
  },
  {
   "cell_type": "code",
   "execution_count": null,
   "metadata": {},
   "outputs": [],
   "source": []
  }
 ],
 "metadata": {
  "kernelspec": {
   "display_name": "cosolvkit",
   "language": "python",
   "name": "python3"
  },
  "language_info": {
   "codemirror_mode": {
    "name": "ipython",
    "version": 3
   },
   "file_extension": ".py",
   "mimetype": "text/x-python",
   "name": "python",
   "nbconvert_exporter": "python",
   "pygments_lexer": "ipython3",
   "version": "3.11.6"
  }
 },
 "nbformat": 4,
 "nbformat_minor": 2
}
